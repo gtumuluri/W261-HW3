{
 "cells": [
  {
   "cell_type": "markdown",
   "metadata": {},
   "source": [
    "# DATASCI W261: Machine Learning at Scale"
   ]
  },
  {
   "cell_type": "markdown",
   "metadata": {},
   "source": [
    "# Gopala Tumuluri's Submission for HW3"
   ]
  },
  {
   "cell_type": "markdown",
   "metadata": {},
   "source": [
    "### Start yarn and hdfs"
   ]
  },
  {
   "cell_type": "code",
   "execution_count": 3,
   "metadata": {
    "collapsed": false,
    "scrolled": true
   },
   "outputs": [
    {
     "name": "stdout",
     "output_type": "stream",
     "text": [
      "starting yarn daemons\n",
      "starting resourcemanager, logging to /usr/local/Cellar/hadoop/2.7.0/libexec/logs/yarn-gtumuluri-resourcemanager-GTA2.out\n",
      "localhost: starting nodemanager, logging to /usr/local/Cellar/hadoop/2.7.0/libexec/logs/yarn-gtumuluri-nodemanager-GTA2.out\n",
      "15/09/22 19:53:07 WARN util.NativeCodeLoader: Unable to load native-hadoop library for your platform... using builtin-java classes where applicable\n",
      "Starting namenodes on [localhost]\n",
      "localhost: starting namenode, logging to /usr/local/Cellar/hadoop/2.7.0/libexec/logs/hadoop-gtumuluri-namenode-GTA2.out\n",
      "localhost: starting datanode, logging to /usr/local/Cellar/hadoop/2.7.0/libexec/logs/hadoop-gtumuluri-datanode-GTA2.out\n",
      "Starting secondary namenodes [0.0.0.0]\n",
      "0.0.0.0: starting secondarynamenode, logging to /usr/local/Cellar/hadoop/2.7.0/libexec/logs/hadoop-gtumuluri-secondarynamenode-GTA2.out\n",
      "15/09/22 19:53:23 WARN util.NativeCodeLoader: Unable to load native-hadoop library for your platform... using builtin-java classes where applicable\n"
     ]
    }
   ],
   "source": [
    "!/usr/local/Cellar/hadoop/2.7.0/sbin/start-yarn.sh\n",
    "!/usr/local/Cellar/hadoop/2.7.0/sbin/start-dfs.sh"
   ]
  },
  {
   "cell_type": "markdown",
   "metadata": {},
   "source": [
    "### Create a folder in HDFS"
   ]
  },
  {
   "cell_type": "code",
   "execution_count": 4,
   "metadata": {
    "collapsed": false
   },
   "outputs": [
    {
     "name": "stdout",
     "output_type": "stream",
     "text": [
      "15/09/22 19:53:27 WARN util.NativeCodeLoader: Unable to load native-hadoop library for your platform... using builtin-java classes where applicable\r\n"
     ]
    }
   ],
   "source": [
    "!hdfs dfs -mkdir -p /user/gtumuluri"
   ]
  },
  {
   "cell_type": "markdown",
   "metadata": {},
   "source": [
    "## Problem - 3.0.1\n",
    "\n",
    "#### What is a merge sort? Where is it used in Hadoop?\n",
    "\n",
    "Merge sort is a classic divide and conquer algorithm that is used to efficiently sort a list of items (in ascending or descending order) based on defined ordering criteria. The algorithm has a runtime of $\\mathbf{O}(n \\times log(n))$ and is the best achievable for any sorting algorithm in the best case. The way the algorithm works is that a given list of items is split into half each time until there is nothing to split (single item) left. Each of these components is then 'merged' one step at a time in such a way that the merge results in ordered (sorted) sub lists until the last merge happens. Given n items in the list, there can be log(n) merges, and the merge operation itself is $\\mathbf{O}(n)$, which results in a total run time of $\\mathbf{O}(n \\times log(n))$ for the algorithm.\n",
    "\n",
    "In Hadoop, sorting is one of the key steps that happens in the shuffle phase where the shuffle step (implemented as part of the Hadoop framework) 'merges' the output coming through from different mappers into a sorted list of key/value pairs. Sorting is essential to ensures that a given reducer receives all output from all the mappers for a given key."
   ]
  },
  {
   "cell_type": "markdown",
   "metadata": {},
   "source": [
    "## Problem - 3.0.2\n",
    "\n",
    "#### What is  a combiner function in the context of Hadoop? Give an example where it can be used and justify why it should be used in the context of this problem.\n",
    "\n",
    "A combiner - typically an optional program - is an intermediate function/program that is designed to improve the efficiency of a given map/reduce impelementation by reducing network traffic, disk writing and memory usage.\n",
    "\n",
    "The combiner program acts on output from the mapper, and 'combines' values of same keys into a single key value pair. Without the combiner, the mapper will output one line (key value pair) per occurrence of they key. With the combiner, the reducer will only receive one or few occurrences of they key and its corresponding aggregate / combined value. This process often severely reduces the network traffic between the mapper and the reducer.\n",
    "\n",
    "The combiner can be implemented in one of three ways:\n",
    "1) As part of the mapper - called in-mapper combiner.\n",
    "2) As a separate program that is invoked between a mapper and a reducer.\n",
    "3) As part of the reducer (although a rare choice).\n",
    "\n",
    "The combiner is also optional. One condition of a combiner is that it not alter the data contract between the mapper and the reducer. In other words, the reducer should receive the output in a format/format it would have received had the combiner not been present in the first place.\n",
    "\n",
    "In the problem at hand of computing frequent item sets, we will be producing counts of individual items and co-occurring pairs from the mapper side. In the event items occur numerous times, and also co-occur with other items numerous times, each mapper will output several lines per item and item pair. To efficiently transfer this output to the reducer, it is beneficial to use a combiner that aggregates the counts per item and per item pair, and only sends aggregated counts to the reducer.\n"
   ]
  },
  {
   "cell_type": "markdown",
   "metadata": {},
   "source": [
    "## Problem - 3.0.3\n",
    "\n",
    "#### What is the Hadoop shuffle?\n",
    "\n",
    "Hadoop Shuffle is the heart of the entire map/reduce framework available as part of Hadoop. It is the machinery that ensures output from mappers is gathered, aggregated, sorted, and delivered to the appropriate reducers. One big contractual commitment the Hadoop map/reduce framework has is that each reducer will see all of the output for a given key from all the mappers. To keep this commitment, the Shuffle process merges the output from mappers, sorts the output in the order of keys, and sends all output for a given key to a single reducer. This whole process is complex given the number of mappers, reducers and data at play, and also given the points of failure in any of these components including the Hadoop management system.\n"
   ]
  },
  {
   "cell_type": "markdown",
   "metadata": {},
   "source": [
    "## Problem - 3.0.4\n",
    "\n",
    "#### What is the Apriori algorithm? Describe an example use in your domain of expertise. Define confidence and lift.\n",
    "\n",
    "**ABOUT APRIORI**\n",
    "\n",
    "The Apriori algorithm is used to find 'frequent itemsets' defined as co-occurring items in a set of baskets. An item can be physical, like one bought in a store, or abstract as a word in a document or care at a hospital.\n",
    "\n",
    "One of the biggest challenges to find frequent itemsets is that the search space of the combinations is exhaustive - meaning it is of the order $\\mathbf{O}(2^n)$. This has to do with the fact that the summation of N choose 1, N choose 2, .... N choose N adds to $2^n$. There are no known algorithms that solve such computational complexity for any meaningful size N. The classi traveling salesman problem with some heuristics can perhaps solve for N = 30 or tere abouts.\n",
    "\n",
    "To overcome this challenge, the Apriori algortithm was developed with a key insight that for an item set to be frequent (above some threshold of occurrences), all its subsets must be frequent also. Applying this criteria will dramatically reduce the brute-force search space necessary to find the frequent item sets of a given size. Using this algorithm, we can first find frequent items of set size 1, which hopefully is a small fraction of total item set size of N (call it k). To find frequent items of set size 2, now we only have to search the combinatorial space of order $\\mathbf{O}(k^2)$. Even if k is of $\\mathbf{O}(n)$, we still have an $\\mathbf{O}(n^2)$ run time (of course, for just 2 itemsets). Repeating this process for larger itemsets will at least ensure a computationally 'plausible' algorithm for finding larger and larger itemsets in polynomial time, unlike the original $\\mathbf{O}(2^n)$ algorithm, which is intractable.\n",
    "\n",
    "**EXAMPLE IN MY DOMAIN**\n",
    "\n",
    "I work in the healthcare industry where frequent itemsets can be very applicable in assessing the care a patient receives and how often they receive care for another related issue, or how frequently combination tests are recommended on patients.\n",
    "\n",
    "**CONFIDENCE**\n",
    "\n",
    "In the context of the Apriori algorithm, confidence is defined as the ratio of the frequency of the set occurring relative to the frequency of the subset occurring. For example, if we have milk and orange juice in our frequent itemset, the confidence of this rule will be the ratio: $(number of times milk and orange juice occur) / (number of times milk alone occurs)$. This ratio gives us a better sense for how much we can believe in the rule. Orange juice may happen to appear frequently enough, but if milk's frequency is orders of magnitude higher, this may just be a coincidence and nothing more. Confidence measure ensures we don't put too much faith into such scenarios.\n",
    "\n",
    "**LIFT**\n",
    "\n",
    "Lift is an additional measure to create even stronger association rules beyond confidence measures. A confidence measure can be high just because the component items have very high support. To overcome these, perhaps 'spurious' association rules, *LIFT* is used. It is defined as the ratio of confidences - confidence as measured above divided by the confidence if the items were completely independent. For an association rule A => B, we will have lift as (# A and B) / (# A) whole thing divided by (# B) / (# Baskets)."
   ]
  },
  {
   "cell_type": "markdown",
   "metadata": {},
   "source": [
    "## Problem 3.1 Exploratory Analysis of Data\n",
    "\n",
    "For this problem, I am exploring unique item counts and basket size frequencies. To accomlish this task, I am using a simple mapper and reducer - with no combiner (in-memory or otherwise). The code outputs each item and the corresponding basket size in which the item was found. The reducer will then be able to count unique items and also the basket size frequencies simultaneously.\n",
    "\n",
    "An alternative approach could use an in-memory/in-mapper combiner with stripes of unique items and basket size frequencies, which the reducer will aggregate from multiple mappers. I did not use this approach below because such a choice won't generalize to any dataset. For example, a large number of items would need onordinate amount of memory on the mapper side, which may be infeasible. A simple mapper, while not efficient, is guaranteed to generalize. A more specialized mapper/combiner/reducer can be written if more information is available about the dataset."
   ]
  },
  {
   "cell_type": "markdown",
   "metadata": {},
   "source": [
    "### Problem 3.1.1 - Mapper for Exploratory Analysis of Number of Items and Basket Sizes"
   ]
  },
  {
   "cell_type": "code",
   "execution_count": 14,
   "metadata": {
    "collapsed": false
   },
   "outputs": [
    {
     "name": "stdout",
     "output_type": "stream",
     "text": [
      "Overwriting 3.1_mapper.py\n"
     ]
    }
   ],
   "source": [
    "%%writefile 3.1_mapper.py\n",
    "#!/usr/bin/python\n",
    "import sys\n",
    "\n",
    "# Take input from the standard input, split the line\n",
    "# and output the item and the corresponding basket\n",
    "# size it was found in\n",
    "for line in sys.stdin:\n",
    "    line = line.strip()\n",
    "    items = line.split(' ')\n",
    "\n",
    "    # We don't want to output the basket size for each\n",
    "    # item found in the basket. Just for the first item.\n",
    "    # For other items, output -1 for basket size.\n",
    "    itemnum = 1\n",
    "    for item in items:\n",
    "        if itemnum == 1:\n",
    "            print '%s\\t%s' % (item, len(items))\n",
    "        else:\n",
    "            print '%s\\t%s' % (item, -1)\n",
    "        itemnum += 1\n"
   ]
  },
  {
   "cell_type": "markdown",
   "metadata": {},
   "source": [
    "### Problem 3.1.1 - Reducer for Exploratory Analysis of Number of Items and Basket Sizes"
   ]
  },
  {
   "cell_type": "code",
   "execution_count": 15,
   "metadata": {
    "collapsed": false
   },
   "outputs": [
    {
     "name": "stdout",
     "output_type": "stream",
     "text": [
      "Overwriting 3.1_reducer.py\n"
     ]
    }
   ],
   "source": [
    "%%writefile 3.1_reducer.py\n",
    "#!/usr/bin/python\n",
    "import sys\n",
    "import matplotlib.pyplot as plt\n",
    "\n",
    "# Initialize basket size frequency dictionary,\n",
    "# number of items, and a temp variable to detect\n",
    "# item changes\n",
    "basket_size_freq = {}\n",
    "nitems = 0\n",
    "prev_item = None\n",
    "\n",
    "# Read standard input, extract item number (key)\n",
    "# and basket size, and build up a count of unique\n",
    "# items and the frequency distribution of the basket\n",
    "# sizes.\n",
    "for line in sys.stdin:\n",
    "    line = line.strip()\n",
    "    item, basket_size = line.split('\\t')\n",
    "    \n",
    "    # If the item changed, increment unique item count\n",
    "    if item != prev_item:\n",
    "        nitems += 1\n",
    "    prev_item = item\n",
    "    \n",
    "    # Increment the number of times a given basket size\n",
    "    # occurred, after initializing default if the size\n",
    "    # is found for the first time.\n",
    "    basket_size_freq.setdefault(int(basket_size), 0)\n",
    "    basket_size_freq[int(basket_size)] += 1\n",
    "\n",
    "# Remove -1 from the basket sizes.\n",
    "# It was just a place holder value.\n",
    "basket_size_freq.pop(-1)\n",
    "\n",
    "# Print some key statistics\n",
    "print '%s\\t%s' % ('Number of Unique Items:', nitems)\n",
    "print '%s\\t%s' % ('Largest Basket Size:', max(basket_size_freq))\n",
    "print '%s\\t%s' % ('Smallest Basket Size:', min(basket_size_freq))\n",
    "print '%s\\t%s' % ('Most Frequent Size:',\n",
    "                  max(basket_size_freq, key = basket_size_freq.get))\n",
    "print '%s\\t%s' % ('Number of Baskets of Most Frequent Size:',\n",
    "                  basket_size_freq[max(basket_size_freq,\n",
    "                                       key = basket_size_freq.get)])\n",
    "\n",
    "# Plot the histogram of the basket sizes (frequency distribution)\n",
    "plt.hist(basket_size_freq.keys(), len(basket_size_freq), weights = basket_size_freq.values())\n",
    "plt.xlabel('Basket Size')\n",
    "plt.ylabel('Number of Baskets')\n",
    "plt.ylim(0, 3000)\n",
    "plt.title('Distribution of Basket Sizes')\n",
    "plt.show()\n"
   ]
  },
  {
   "cell_type": "code",
   "execution_count": 16,
   "metadata": {
    "collapsed": false
   },
   "outputs": [
    {
     "name": "stdout",
     "output_type": "stream",
     "text": [
      "15/09/22 19:56:21 WARN util.NativeCodeLoader: Unable to load native-hadoop library for your platform... using builtin-java classes where applicable\n",
      "put: `/user/gtumuluri/ProductPurchaseData.txt': File exists\n"
     ]
    }
   ],
   "source": [
    "!hdfs dfs -put ProductPurchaseData.txt /user/gtumuluri"
   ]
  },
  {
   "cell_type": "code",
   "execution_count": 17,
   "metadata": {
    "collapsed": false
   },
   "outputs": [
    {
     "name": "stdout",
     "output_type": "stream",
     "text": [
      "15/09/22 19:56:35 WARN util.NativeCodeLoader: Unable to load native-hadoop library for your platform... using builtin-java classes where applicable\n",
      "15/09/22 19:56:36 INFO Configuration.deprecation: session.id is deprecated. Instead, use dfs.metrics.session-id\n",
      "15/09/22 19:56:36 INFO jvm.JvmMetrics: Initializing JVM Metrics with processName=JobTracker, sessionId=\n",
      "15/09/22 19:56:36 INFO jvm.JvmMetrics: Cannot initialize JVM Metrics with processName=JobTracker, sessionId= - already initialized\n",
      "15/09/22 19:56:36 INFO mapred.FileInputFormat: Total input paths to process : 1\n",
      "15/09/22 19:56:36 INFO mapreduce.JobSubmitter: number of splits:1\n",
      "15/09/22 19:56:36 INFO mapreduce.JobSubmitter: Submitting tokens for job: job_local58429723_0001\n",
      "15/09/22 19:56:37 INFO mapreduce.Job: The url to track the job: http://localhost:8080/\n",
      "15/09/22 19:56:37 INFO mapreduce.Job: Running job: job_local58429723_0001\n",
      "15/09/22 19:56:37 INFO mapred.LocalJobRunner: OutputCommitter set in config null\n",
      "15/09/22 19:56:37 INFO mapred.LocalJobRunner: OutputCommitter is org.apache.hadoop.mapred.FileOutputCommitter\n",
      "15/09/22 19:56:37 INFO output.FileOutputCommitter: File Output Committer Algorithm version is 1\n",
      "15/09/22 19:56:37 INFO mapred.LocalJobRunner: Waiting for map tasks\n",
      "15/09/22 19:56:37 INFO mapred.LocalJobRunner: Starting task: attempt_local58429723_0001_m_000000_0\n",
      "15/09/22 19:56:37 INFO output.FileOutputCommitter: File Output Committer Algorithm version is 1\n",
      "15/09/22 19:56:37 INFO util.ProcfsBasedProcessTree: ProcfsBasedProcessTree currently is supported only on Linux.\n",
      "15/09/22 19:56:37 INFO mapred.Task:  Using ResourceCalculatorProcessTree : null\n",
      "15/09/22 19:56:37 INFO mapred.MapTask: Processing split: hdfs://localhost:9000/user/gtumuluri/ProductPurchaseData.txt:0+3458517\n",
      "15/09/22 19:56:37 INFO mapred.MapTask: numReduceTasks: 1\n",
      "15/09/22 19:56:37 INFO mapred.MapTask: (EQUATOR) 0 kvi 26214396(104857584)\n",
      "15/09/22 19:56:37 INFO mapred.MapTask: mapreduce.task.io.sort.mb: 100\n",
      "15/09/22 19:56:37 INFO mapred.MapTask: soft limit at 83886080\n",
      "15/09/22 19:56:37 INFO mapred.MapTask: bufstart = 0; bufvoid = 104857600\n",
      "15/09/22 19:56:37 INFO mapred.MapTask: kvstart = 26214396; length = 6553600\n",
      "15/09/22 19:56:37 INFO mapred.MapTask: Map output collector class = org.apache.hadoop.mapred.MapTask$MapOutputBuffer\n",
      "15/09/22 19:56:37 INFO streaming.PipeMapRed: PipeMapRed exec [/Users/gtumuluri/Documents/BerkeleyMIDS/ScalableML/HW3/./3.1_mapper.py]\n",
      "15/09/22 19:56:37 INFO Configuration.deprecation: mapred.tip.id is deprecated. Instead, use mapreduce.task.id\n",
      "15/09/22 19:56:37 INFO Configuration.deprecation: mapred.local.dir is deprecated. Instead, use mapreduce.cluster.local.dir\n",
      "15/09/22 19:56:37 INFO Configuration.deprecation: map.input.file is deprecated. Instead, use mapreduce.map.input.file\n",
      "15/09/22 19:56:37 INFO Configuration.deprecation: mapred.skip.on is deprecated. Instead, use mapreduce.job.skiprecords\n",
      "15/09/22 19:56:37 INFO Configuration.deprecation: map.input.length is deprecated. Instead, use mapreduce.map.input.length\n",
      "15/09/22 19:56:37 INFO Configuration.deprecation: mapred.work.output.dir is deprecated. Instead, use mapreduce.task.output.dir\n",
      "15/09/22 19:56:37 INFO Configuration.deprecation: map.input.start is deprecated. Instead, use mapreduce.map.input.start\n",
      "15/09/22 19:56:37 INFO Configuration.deprecation: mapred.job.id is deprecated. Instead, use mapreduce.job.id\n",
      "15/09/22 19:56:37 INFO Configuration.deprecation: user.name is deprecated. Instead, use mapreduce.job.user.name\n",
      "15/09/22 19:56:37 INFO Configuration.deprecation: mapred.task.is.map is deprecated. Instead, use mapreduce.task.ismap\n",
      "15/09/22 19:56:37 INFO Configuration.deprecation: mapred.task.id is deprecated. Instead, use mapreduce.task.attempt.id\n",
      "15/09/22 19:56:37 INFO Configuration.deprecation: mapred.task.partition is deprecated. Instead, use mapreduce.task.partition\n",
      "15/09/22 19:56:37 INFO streaming.PipeMapRed: R/W/S=1/0/0 in:NA [rec/s] out:NA [rec/s]\n",
      "15/09/22 19:56:37 INFO streaming.PipeMapRed: R/W/S=10/0/0 in:NA [rec/s] out:NA [rec/s]\n",
      "15/09/22 19:56:37 INFO streaming.PipeMapRed: R/W/S=100/0/0 in:NA [rec/s] out:NA [rec/s]\n",
      "15/09/22 19:56:37 INFO streaming.PipeMapRed: R/W/S=1000/0/0 in:NA [rec/s] out:NA [rec/s]\n",
      "15/09/22 19:56:37 INFO streaming.PipeMapRed: Records R/W=1216/1\n",
      "15/09/22 19:56:37 INFO streaming.PipeMapRed: R/W/S=10000/120338/0 in:NA [rec/s] out:NA [rec/s]\n",
      "15/09/22 19:56:38 INFO mapreduce.Job: Job job_local58429723_0001 running in uber mode : false\n",
      "15/09/22 19:56:38 INFO mapreduce.Job:  map 0% reduce 0%\n",
      "15/09/22 19:56:38 INFO streaming.PipeMapRed: MRErrorThread done\n",
      "15/09/22 19:56:38 INFO streaming.PipeMapRed: mapRedFinished\n",
      "15/09/22 19:56:38 INFO mapred.LocalJobRunner: \n",
      "15/09/22 19:56:38 INFO mapred.MapTask: Starting flush of map output\n",
      "15/09/22 19:56:38 INFO mapred.MapTask: Spilling map output\n",
      "15/09/22 19:56:38 INFO mapred.MapTask: bufstart = 0; bufend = 4559291; bufvoid = 104857600\n",
      "15/09/22 19:56:38 INFO mapred.MapTask: kvstart = 26214396(104857584); kvend = 24691104(98764416); length = 1523293/6553600\n",
      "15/09/22 19:56:38 INFO mapred.MapTask: Finished spill 0\n",
      "15/09/22 19:56:38 INFO mapred.Task: Task:attempt_local58429723_0001_m_000000_0 is done. And is in the process of committing\n",
      "15/09/22 19:56:39 INFO mapred.LocalJobRunner: Records R/W=1216/1\n",
      "15/09/22 19:56:39 INFO mapred.Task: Task 'attempt_local58429723_0001_m_000000_0' done.\n",
      "15/09/22 19:56:39 INFO mapred.LocalJobRunner: Finishing task: attempt_local58429723_0001_m_000000_0\n",
      "15/09/22 19:56:39 INFO mapred.LocalJobRunner: map task executor complete.\n",
      "15/09/22 19:56:39 INFO mapred.LocalJobRunner: Waiting for reduce tasks\n",
      "15/09/22 19:56:39 INFO mapred.LocalJobRunner: Starting task: attempt_local58429723_0001_r_000000_0\n",
      "15/09/22 19:56:39 INFO output.FileOutputCommitter: File Output Committer Algorithm version is 1\n",
      "15/09/22 19:56:39 INFO util.ProcfsBasedProcessTree: ProcfsBasedProcessTree currently is supported only on Linux.\n",
      "15/09/22 19:56:39 INFO mapred.Task:  Using ResourceCalculatorProcessTree : null\n",
      "15/09/22 19:56:39 INFO mapred.ReduceTask: Using ShuffleConsumerPlugin: org.apache.hadoop.mapreduce.task.reduce.Shuffle@34ebd7e\n",
      "15/09/22 19:56:39 INFO reduce.MergeManagerImpl: MergerManager: memoryLimit=334338464, maxSingleShuffleLimit=83584616, mergeThreshold=220663392, ioSortFactor=10, memToMemMergeOutputsThreshold=10\n",
      "15/09/22 19:56:39 INFO reduce.EventFetcher: attempt_local58429723_0001_r_000000_0 Thread started: EventFetcher for fetching Map Completion Events\n",
      "15/09/22 19:56:39 INFO reduce.LocalFetcher: localfetcher#1 about to shuffle output of map attempt_local58429723_0001_m_000000_0 decomp: 5320941 len: 5320945 to MEMORY\n",
      "15/09/22 19:56:39 INFO reduce.InMemoryMapOutput: Read 5320941 bytes from map-output for attempt_local58429723_0001_m_000000_0\n",
      "15/09/22 19:56:39 INFO reduce.MergeManagerImpl: closeInMemoryFile -> map-output of size: 5320941, inMemoryMapOutputs.size() -> 1, commitMemory -> 0, usedMemory ->5320941\n",
      "15/09/22 19:56:39 INFO reduce.EventFetcher: EventFetcher is interrupted.. Returning\n",
      "15/09/22 19:56:39 INFO mapred.LocalJobRunner: 1 / 1 copied.\n",
      "15/09/22 19:56:39 INFO reduce.MergeManagerImpl: finalMerge called with 1 in-memory map-outputs and 0 on-disk map-outputs\n",
      "15/09/22 19:56:39 INFO mapred.Merger: Merging 1 sorted segments\n",
      "15/09/22 19:56:39 INFO mapred.Merger: Down to the last merge-pass, with 1 segments left of total size: 5320930 bytes\n",
      "15/09/22 19:56:39 INFO mapreduce.Job:  map 100% reduce 0%\n",
      "15/09/22 19:56:39 INFO reduce.MergeManagerImpl: Merged 1 segments, 5320941 bytes to disk to satisfy reduce memory limit\n",
      "15/09/22 19:56:39 INFO reduce.MergeManagerImpl: Merging 1 files, 5320945 bytes from disk\n",
      "15/09/22 19:56:39 INFO reduce.MergeManagerImpl: Merging 0 segments, 0 bytes from memory into reduce\n",
      "15/09/22 19:56:39 INFO mapred.Merger: Merging 1 sorted segments\n",
      "15/09/22 19:56:39 INFO mapred.Merger: Down to the last merge-pass, with 1 segments left of total size: 5320930 bytes\n",
      "15/09/22 19:56:39 INFO mapred.LocalJobRunner: 1 / 1 copied.\n",
      "15/09/22 19:56:39 INFO streaming.PipeMapRed: PipeMapRed exec [/Users/gtumuluri/Documents/BerkeleyMIDS/ScalableML/HW3/./3.1_reducer.py]\n",
      "15/09/22 19:56:39 INFO Configuration.deprecation: mapred.job.tracker is deprecated. Instead, use mapreduce.jobtracker.address\n",
      "15/09/22 19:56:39 INFO Configuration.deprecation: mapred.map.tasks is deprecated. Instead, use mapreduce.job.maps\n",
      "15/09/22 19:56:39 INFO streaming.PipeMapRed: R/W/S=1/0/0 in:NA [rec/s] out:NA [rec/s]\n",
      "15/09/22 19:56:39 INFO streaming.PipeMapRed: R/W/S=10/0/0 in:NA [rec/s] out:NA [rec/s]\n",
      "15/09/22 19:56:39 INFO streaming.PipeMapRed: R/W/S=100/0/0 in:NA [rec/s] out:NA [rec/s]\n",
      "15/09/22 19:56:39 INFO streaming.PipeMapRed: R/W/S=1000/0/0 in:NA [rec/s] out:NA [rec/s]\n",
      "15/09/22 19:56:39 INFO streaming.PipeMapRed: R/W/S=10000/0/0 in:NA [rec/s] out:NA [rec/s]\n",
      "15/09/22 19:56:40 INFO streaming.PipeMapRed: R/W/S=100000/0/0 in:100000=100000/1 [rec/s] out:0=0/1 [rec/s]\n",
      "15/09/22 19:56:40 INFO streaming.PipeMapRed: R/W/S=200000/0/0 in:200000=200000/1 [rec/s] out:0=0/1 [rec/s]\n",
      "15/09/22 19:56:41 INFO streaming.PipeMapRed: R/W/S=300000/0/0 in:300000=300000/1 [rec/s] out:0=0/1 [rec/s]\n",
      "15/09/22 19:56:45 INFO mapred.LocalJobRunner: reduce > reduce\n",
      "15/09/22 19:56:45 INFO mapreduce.Job:  map 100% reduce 100%\n",
      "15/09/22 19:57:21 INFO streaming.PipeMapRed: Records R/W=380824/1\n",
      "15/09/22 19:57:21 INFO streaming.PipeMapRed: MRErrorThread done\n",
      "15/09/22 19:57:21 INFO streaming.PipeMapRed: mapRedFinished\n",
      "15/09/22 19:57:22 INFO mapred.Task: Task:attempt_local58429723_0001_r_000000_0 is done. And is in the process of committing\n",
      "15/09/22 19:57:22 INFO mapred.LocalJobRunner: reduce > reduce\n",
      "15/09/22 19:57:22 INFO mapred.Task: Task attempt_local58429723_0001_r_000000_0 is allowed to commit now\n",
      "15/09/22 19:57:22 INFO output.FileOutputCommitter: Saved output of task 'attempt_local58429723_0001_r_000000_0' to hdfs://localhost:9000/user/gtumuluri/productPurchaseExploreOutput/_temporary/0/task_local58429723_0001_r_000000\n",
      "15/09/22 19:57:22 INFO mapred.LocalJobRunner: Records R/W=380824/1 > reduce\n",
      "15/09/22 19:57:22 INFO mapred.Task: Task 'attempt_local58429723_0001_r_000000_0' done.\n",
      "15/09/22 19:57:22 INFO mapred.LocalJobRunner: Finishing task: attempt_local58429723_0001_r_000000_0\n",
      "15/09/22 19:57:22 INFO mapred.LocalJobRunner: reduce task executor complete.\n",
      "15/09/22 19:57:23 INFO mapreduce.Job: Job job_local58429723_0001 completed successfully\n",
      "15/09/22 19:57:23 INFO mapreduce.Job: Counters: 35\n",
      "\tFile System Counters\n",
      "\t\tFILE: Number of bytes read=10854042\n",
      "\t\tFILE: Number of bytes written=16756355\n",
      "\t\tFILE: Number of read operations=0\n",
      "\t\tFILE: Number of large read operations=0\n",
      "\t\tFILE: Number of write operations=0\n",
      "\t\tHDFS: Number of bytes read=6917034\n",
      "\t\tHDFS: Number of bytes written=146\n",
      "\t\tHDFS: Number of read operations=13\n",
      "\t\tHDFS: Number of large read operations=0\n",
      "\t\tHDFS: Number of write operations=4\n",
      "\tMap-Reduce Framework\n",
      "\t\tMap input records=31101\n",
      "\t\tMap output records=380824\n",
      "\t\tMap output bytes=4559291\n",
      "\t\tMap output materialized bytes=5320945\n",
      "\t\tInput split bytes=112\n",
      "\t\tCombine input records=0\n",
      "\t\tCombine output records=0\n",
      "\t\tReduce input groups=12592\n",
      "\t\tReduce shuffle bytes=5320945\n",
      "\t\tReduce input records=380824\n",
      "\t\tReduce output records=5\n",
      "\t\tSpilled Records=761648\n",
      "\t\tShuffled Maps =1\n",
      "\t\tFailed Shuffles=0\n",
      "\t\tMerged Map outputs=1\n",
      "\t\tGC time elapsed (ms)=0\n",
      "\t\tTotal committed heap usage (bytes)=569376768\n",
      "\tShuffle Errors\n",
      "\t\tBAD_ID=0\n",
      "\t\tCONNECTION=0\n",
      "\t\tIO_ERROR=0\n",
      "\t\tWRONG_LENGTH=0\n",
      "\t\tWRONG_MAP=0\n",
      "\t\tWRONG_REDUCE=0\n",
      "\tFile Input Format Counters \n",
      "\t\tBytes Read=3458517\n",
      "\tFile Output Format Counters \n",
      "\t\tBytes Written=146\n",
      "15/09/22 19:57:23 INFO streaming.StreamJob: Output directory: productPurchaseExploreOutput\n"
     ]
    }
   ],
   "source": [
    "!hadoop jar /usr/local/Cellar/hadoop/2.7.0/libexec/share/hadoop/tools/lib/hadoop-streaming-2.7.0.jar -mapper 3.1_mapper.py -reducer 3.1_reducer.py -input ProductPurchaseData.txt -output productPurchaseExploreOutput"
   ]
  },
  {
   "cell_type": "code",
   "execution_count": 18,
   "metadata": {
    "collapsed": false
   },
   "outputs": [
    {
     "name": "stdout",
     "output_type": "stream",
     "text": [
      "15/09/22 19:57:31 WARN util.NativeCodeLoader: Unable to load native-hadoop library for your platform... using builtin-java classes where applicable\n",
      "Number of Unique Items:\t12592\n",
      "Largest Basket Size:\t37\n",
      "Smallest Basket Size:\t2\n",
      "Most Frequent Size:\t9\n",
      "Number of Baskets of Most Frequent Size:\t2611\n"
     ]
    }
   ],
   "source": [
    "!hdfs dfs -cat productPurchaseExploreOutput/part-00000"
   ]
  },
  {
   "cell_type": "code",
   "execution_count": 19,
   "metadata": {
    "collapsed": false
   },
   "outputs": [
    {
     "data": {
      "image/png": "[encoded data removed]",
      "text/plain": [
       "<IPython.core.display.Image object>"
      ]
     },
     "execution_count": 19,
     "metadata": {},
     "output_type": "execute_result"
    }
   ],
   "source": [
    "from IPython.display import Image\n",
    "Image(filename='figure_1.png') "
   ]
  },
  {
   "cell_type": "markdown",
   "metadata": {},
   "source": [
    "## Problem 3.2 Apriori 1-Itemsets, 2-Itemsets and Top 5 Rules\n",
    "\n",
    "To find 1- and 2-itemsets and the rules, I am using a mapper, a combiner, and a reducer. The mapper uses 'pairs' and order inversion concepts to communicate its output to the combiner and the reducer (if the combiner does not run or is not used). The mapper outputs a two-tuple as the key, and 1 as the value. The two-tuple is the pair of items co-occurring in the lexicographic order. To leverage order inversion to count 1-itemsets, a two-tuple of each item with special peer word '*' is also output by the mapper.\n",
    "\n",
    "Note that the output of the mapper is further optimized by avoiding outputting co-occurrences in the opposite lexicographical order since the problem statement specifically requires lexical ordering of two-item sets and their corresponding confidence computations.\n",
    "\n",
    "For example, the mapper will only output (a, b), 1 and never (b, a), 1.\n",
    "\n",
    "The combiner in this case is an external combiner, and it simply aggregates counts of identical keys - both order inversions, and co-occurring item pairs. The combiner is used in the output below, but the reducer can function and provide accurate output even if the combiner fails to run."
   ]
  },
  {
   "cell_type": "markdown",
   "metadata": {},
   "source": [
    "### Problem 3.2.1 - Mapper to Find 1- and 2-Itemsets, and Top 5 Rules"
   ]
  },
  {
   "cell_type": "code",
   "execution_count": 20,
   "metadata": {
    "collapsed": false
   },
   "outputs": [
    {
     "name": "stdout",
     "output_type": "stream",
     "text": [
      "Overwriting 3.2_pairs_mapper.py\n"
     ]
    }
   ],
   "source": [
    "%%writefile 3.2_pairs_mapper.py\n",
    "#!/usr/bin/python\n",
    "\n",
    "import sys\n",
    "\n",
    "# Take input from the standard input with each line\n",
    "# representing a basket. Split the basket and output\n",
    "# the order inversion key with count 1 as value, and also \n",
    "# co-occurring terms with count 1 as value. Only output\n",
    "# lexicographically ordered pairs.\n",
    "for line in sys.stdin:\n",
    "    line = line.strip()\n",
    "    items = line.split(' ')\n",
    "    \n",
    "    # Sort the items so we can benefit from\n",
    "    # lexical ordering.\n",
    "    items = sorted(items)\n",
    "\n",
    "    # Double loop to output order inversions in\n",
    "    # first one, and co-occurring terms in the second.\n",
    "    for item in items:\n",
    "        print '%s\\t%s' % ((item, '*'), 1)\n",
    "        # Sorted order means, we don't need to\n",
    "        # iterate over whole list. Only current index\n",
    "        # to last.\n",
    "        for peer in items[items.index(item) + 1:]:\n",
    "            print '%s\\t%s' % ((item, peer), 1)\n"
   ]
  },
  {
   "cell_type": "markdown",
   "metadata": {},
   "source": [
    "### Problem 3.2.2 - Combiner to Find 1- and 2-Itemsets, and Top 5 Rules"
   ]
  },
  {
   "cell_type": "code",
   "execution_count": 21,
   "metadata": {
    "collapsed": false
   },
   "outputs": [
    {
     "name": "stdout",
     "output_type": "stream",
     "text": [
      "Overwriting 3.2_pairs_combiner.py\n"
     ]
    }
   ],
   "source": [
    "%%writefile 3.2_pairs_combiner.py\n",
    "#!/usr/bin/python\n",
    "import sys\n",
    "import ast\n",
    "\n",
    "# Temp variables to track\n",
    "# key changes and new counts\n",
    "prev_key = None\n",
    "count = 0\n",
    "\n",
    "# Read output from standard input, aggregate counts\n",
    "# of common keys (including order inversions), and\n",
    "# output back the key and aggregate count.\n",
    "for line in sys.stdin:\n",
    "    line = line.strip()\n",
    "    items = line.split('\\t')\n",
    "\n",
    "    key = ast.literal_eval(items[0])\n",
    "    value = int(items[1])\n",
    "    if key == prev_key:\n",
    "        count += value\n",
    "    else:\n",
    "        # Key changed, time to output the previous one.\n",
    "        if prev_key is not None:\n",
    "            print '%s\\t%s' % (prev_key, count)\n",
    "        count = value\n",
    "\n",
    "    prev_key = key\n",
    "\n",
    "# Don't forget to output the last key that we just counted.\n",
    "print '%s\\t%s' % (prev_key, count)"
   ]
  },
  {
   "cell_type": "markdown",
   "metadata": {},
   "source": [
    "### Problem 3.2.3 - Reducer to Find 1- and 2-Itemsets, and Top 5 Rules"
   ]
  },
  {
   "cell_type": "code",
   "execution_count": 22,
   "metadata": {
    "collapsed": false
   },
   "outputs": [
    {
     "name": "stdout",
     "output_type": "stream",
     "text": [
      "Overwriting 3.2_pairs_reducer.py\n"
     ]
    }
   ],
   "source": [
    "%%writefile 3.2_pairs_reducer.py\n",
    "#!/usr/bin/python\n",
    "import sys\n",
    "import ast\n",
    "\n",
    "# Maintain an item frequency map using dict.\n",
    "item_freq = {}\n",
    "\n",
    "\n",
    "# Temp variable to track key changes.\n",
    "prev_item = None\n",
    "\n",
    "# Read standard input, extract the 2-tuple and the\n",
    "# count of occurrences, and aggregte them in the\n",
    "# above dict.\n",
    "for line in sys.stdin:\n",
    "    line = line.strip()\n",
    "    items = line.split('\\t')\n",
    "\n",
    "    # Convert two-tuple string into a\n",
    "    # python tuple and the count value.\n",
    "    key = ast.literal_eval(items[0])\n",
    "    value = int(items[1])\n",
    "    \n",
    "    # If key is same, keep adding up the count.\n",
    "    # Otherwise, start a new counter after initializing\n",
    "    # a new key in the dict.\n",
    "    if key == prev_item:\n",
    "        item_freq[key[0]][key[1]] += value\n",
    "    else:\n",
    "        item_freq.setdefault(key[0], {})\n",
    "        item_freq[key[0]][key[1]] = value\n",
    "\n",
    "    # Keep track of key changes.\n",
    "    prev_item = key\n",
    "\n",
    "# Walk through the item frequency map and\n",
    "# build a list of frequent 1-itemsets (items\n",
    "# with 100 or more occurrences)\n",
    "freq_itemsets_one = []\n",
    "for key in item_freq:\n",
    "    if item_freq[key]['*'] >= 100:\n",
    "        freq_itemsets_one.append(key)\n",
    "print 'Number of frequent 1-item sets:', len(freq_itemsets_one)\n",
    "\n",
    "# Walk through the 1-item sets, and review the full\n",
    "# n-squared possible two item sets and see if they\n",
    "# have sufficient frequncy of co-occurrence (100) and\n",
    "# add them to the 2-itemset if they do.\n",
    "freq_itemsets_two = []\n",
    "for item in freq_itemsets_one:\n",
    "    for peer in freq_itemsets_one:\n",
    "        if (item == peer or\n",
    "            peer not in item_freq[item] or\n",
    "            item_freq[item][peer] < 100):\n",
    "            continue\n",
    "        if ((item, peer) in freq_itemsets_two or\n",
    "           (peer, item) in freq_itemsets_two):\n",
    "            continue\n",
    "\n",
    "        if item < peer:\n",
    "            freq_itemsets_two.append((item, peer, item_freq[item][peer]))\n",
    "        else:\n",
    "            freq_itemsets_two.append((peer, item, item_freq[peer][item]))\n",
    "print 'Number of frequent 2-item sets:', len(freq_itemsets_two)\n",
    "\n",
    "# Walk through the 2-itemset list and compute confidence.\n",
    "# Remember, the item pairs are already in the lexical order\n",
    "# since our mapper did that job for us.\n",
    "freq_itemsets_two_conf = []\n",
    "for item in freq_itemsets_two:\n",
    "    conf = round(item[2] * 1.0 / item_freq[item[0]]['*'], 2)\n",
    "    freq_itemsets_two_conf.append((item[0], item[1], conf))\n",
    "\n",
    "# Sort the 2-itemset confidence map by confidence score first in\n",
    "# descending order, and by item ID next, in lexical order.\n",
    "freq_itemsets_two_conf = sorted(freq_itemsets_two_conf,\n",
    "                                key = lambda(x): (-x[2], x[0]))\n",
    "\n",
    "# Output the first five entries in the list.\n",
    "print '\\nTop Five Rules with Confidence Scores:'\n",
    "for item in freq_itemsets_two_conf[:5]:\n",
    "    print item\n"
   ]
  },
  {
   "cell_type": "code",
   "execution_count": 23,
   "metadata": {
    "collapsed": false
   },
   "outputs": [
    {
     "name": "stdout",
     "output_type": "stream",
     "text": [
      "15/09/22 20:00:32 WARN util.NativeCodeLoader: Unable to load native-hadoop library for your platform... using builtin-java classes where applicable\n",
      "15/09/22 20:00:32 INFO Configuration.deprecation: session.id is deprecated. Instead, use dfs.metrics.session-id\n",
      "15/09/22 20:00:32 INFO jvm.JvmMetrics: Initializing JVM Metrics with processName=JobTracker, sessionId=\n",
      "15/09/22 20:00:32 INFO jvm.JvmMetrics: Cannot initialize JVM Metrics with processName=JobTracker, sessionId= - already initialized\n",
      "15/09/22 20:00:33 INFO mapred.FileInputFormat: Total input paths to process : 1\n",
      "15/09/22 20:00:33 INFO mapreduce.JobSubmitter: number of splits:1\n",
      "15/09/22 20:00:33 INFO mapreduce.JobSubmitter: Submitting tokens for job: job_local2065773600_0001\n",
      "15/09/22 20:00:33 INFO mapreduce.Job: The url to track the job: http://localhost:8080/\n",
      "15/09/22 20:00:33 INFO mapred.LocalJobRunner: OutputCommitter set in config null\n",
      "15/09/22 20:00:33 INFO mapred.LocalJobRunner: OutputCommitter is org.apache.hadoop.mapred.FileOutputCommitter\n",
      "15/09/22 20:00:33 INFO mapreduce.Job: Running job: job_local2065773600_0001\n",
      "15/09/22 20:00:33 INFO output.FileOutputCommitter: File Output Committer Algorithm version is 1\n",
      "15/09/22 20:00:33 INFO mapred.LocalJobRunner: Waiting for map tasks\n",
      "15/09/22 20:00:33 INFO mapred.LocalJobRunner: Starting task: attempt_local2065773600_0001_m_000000_0\n",
      "15/09/22 20:00:33 INFO output.FileOutputCommitter: File Output Committer Algorithm version is 1\n",
      "15/09/22 20:00:33 INFO util.ProcfsBasedProcessTree: ProcfsBasedProcessTree currently is supported only on Linux.\n",
      "15/09/22 20:00:33 INFO mapred.Task:  Using ResourceCalculatorProcessTree : null\n",
      "15/09/22 20:00:33 INFO mapred.MapTask: Processing split: hdfs://localhost:9000/user/gtumuluri/ProductPurchaseData.txt:0+3458517\n",
      "15/09/22 20:00:33 INFO mapred.MapTask: numReduceTasks: 1\n",
      "15/09/22 20:00:34 INFO mapred.MapTask: (EQUATOR) 0 kvi 26214396(104857584)\n",
      "15/09/22 20:00:34 INFO mapred.MapTask: mapreduce.task.io.sort.mb: 100\n",
      "15/09/22 20:00:34 INFO mapred.MapTask: soft limit at 83886080\n",
      "15/09/22 20:00:34 INFO mapred.MapTask: bufstart = 0; bufvoid = 104857600\n",
      "15/09/22 20:00:34 INFO mapred.MapTask: kvstart = 26214396; length = 6553600\n",
      "15/09/22 20:00:34 INFO mapred.MapTask: Map output collector class = org.apache.hadoop.mapred.MapTask$MapOutputBuffer\n",
      "15/09/22 20:00:34 INFO streaming.PipeMapRed: PipeMapRed exec [/Users/gtumuluri/Documents/BerkeleyMIDS/ScalableML/HW3/./3.2_pairs_mapper.py]\n",
      "15/09/22 20:00:34 INFO Configuration.deprecation: mapred.tip.id is deprecated. Instead, use mapreduce.task.id\n",
      "15/09/22 20:00:34 INFO Configuration.deprecation: mapred.local.dir is deprecated. Instead, use mapreduce.cluster.local.dir\n",
      "15/09/22 20:00:34 INFO Configuration.deprecation: map.input.file is deprecated. Instead, use mapreduce.map.input.file\n",
      "15/09/22 20:00:34 INFO Configuration.deprecation: mapred.skip.on is deprecated. Instead, use mapreduce.job.skiprecords\n",
      "15/09/22 20:00:34 INFO Configuration.deprecation: map.input.length is deprecated. Instead, use mapreduce.map.input.length\n",
      "15/09/22 20:00:34 INFO Configuration.deprecation: mapred.work.output.dir is deprecated. Instead, use mapreduce.task.output.dir\n",
      "15/09/22 20:00:34 INFO Configuration.deprecation: map.input.start is deprecated. Instead, use mapreduce.map.input.start\n",
      "15/09/22 20:00:34 INFO Configuration.deprecation: mapred.job.id is deprecated. Instead, use mapreduce.job.id\n",
      "15/09/22 20:00:34 INFO Configuration.deprecation: user.name is deprecated. Instead, use mapreduce.job.user.name\n",
      "15/09/22 20:00:34 INFO Configuration.deprecation: mapred.task.is.map is deprecated. Instead, use mapreduce.task.ismap\n",
      "15/09/22 20:00:34 INFO Configuration.deprecation: mapred.task.id is deprecated. Instead, use mapreduce.task.attempt.id\n",
      "15/09/22 20:00:34 INFO Configuration.deprecation: mapred.task.partition is deprecated. Instead, use mapreduce.task.partition\n",
      "15/09/22 20:00:34 INFO streaming.PipeMapRed: R/W/S=1/0/0 in:NA [rec/s] out:NA [rec/s]\n",
      "15/09/22 20:00:34 INFO streaming.PipeMapRed: R/W/S=10/0/0 in:NA [rec/s] out:NA [rec/s]\n",
      "15/09/22 20:00:34 INFO streaming.PipeMapRed: R/W/S=100/0/0 in:NA [rec/s] out:NA [rec/s]\n",
      "15/09/22 20:00:34 INFO streaming.PipeMapRed: R/W/S=1000/0/0 in:NA [rec/s] out:NA [rec/s]\n",
      "15/09/22 20:00:34 INFO streaming.PipeMapRed: Records R/W=1216/1\n",
      "15/09/22 20:00:34 INFO mapreduce.Job: Job job_local2065773600_0001 running in uber mode : false\n",
      "15/09/22 20:00:34 INFO mapreduce.Job:  map 0% reduce 0%\n",
      "15/09/22 20:00:36 INFO streaming.PipeMapRed: R/W/S=10000/974771/0 in:5000=10000/2 [rec/s] out:487385=974771/2 [rec/s]\n",
      "15/09/22 20:00:39 INFO mapred.MapTask: Spilling map output\n",
      "15/09/22 20:00:39 INFO mapred.MapTask: bufstart = 0; bufend = 52006641; bufvoid = 104857600\n",
      "15/09/22 20:00:39 INFO mapred.MapTask: kvstart = 26214396(104857584); kvend = 18244540(72978160); length = 7969857/6553600\n",
      "15/09/22 20:00:39 INFO mapred.MapTask: (EQUATOR) 59995777 kvi 14998940(59995760)\n",
      "15/09/22 20:00:39 INFO mapred.LocalJobRunner: Records R/W=1216/1 > map\n",
      "15/09/22 20:00:40 INFO mapreduce.Job:  map 48% reduce 0%\n",
      "15/09/22 20:00:42 INFO mapred.LocalJobRunner: Records R/W=1216/1 > map\n",
      "15/09/22 20:00:43 INFO streaming.PipeMapRed: PipeMapRed exec [/Users/gtumuluri/Documents/BerkeleyMIDS/ScalableML/HW3/./3.2_pairs_combiner.py]\n",
      "15/09/22 20:00:43 INFO Configuration.deprecation: mapred.skip.map.auto.incr.proc.count is deprecated. Instead, use mapreduce.map.skip.proc-count.auto-incr\n",
      "15/09/22 20:00:43 INFO streaming.PipeMapRed: R/W/S=1/0/0 in:NA [rec/s] out:NA [rec/s]\n",
      "15/09/22 20:00:43 INFO streaming.PipeMapRed: R/W/S=10/0/0 in:NA [rec/s] out:NA [rec/s]\n",
      "15/09/22 20:00:43 INFO streaming.PipeMapRed: R/W/S=100/0/0 in:NA [rec/s] out:NA [rec/s]\n",
      "15/09/22 20:00:43 INFO streaming.PipeMapRed: R/W/S=1000/0/0 in:NA [rec/s] out:NA [rec/s]\n",
      "15/09/22 20:00:43 INFO streaming.PipeMapRed: Records R/W=9896/1\n",
      "15/09/22 20:00:43 INFO streaming.PipeMapRed: R/W/S=10000/2432/0 in:NA [rec/s] out:NA [rec/s]\n",
      "15/09/22 20:00:43 INFO mapreduce.Job:  map 58% reduce 0%\n",
      "15/09/22 20:00:45 INFO streaming.PipeMapRed: R/W/S=100000/34618/0 in:50000=100000/2 [rec/s] out:17309=34618/2 [rec/s]\n",
      "15/09/22 20:00:45 INFO mapred.LocalJobRunner: Records R/W=9896/1 > map\n",
      "15/09/22 20:00:47 INFO streaming.PipeMapRed: R/W/S=200000/73487/0 in:50000=200000/4 [rec/s] out:18371=73487/4 [rec/s]\n",
      "15/09/22 20:00:48 INFO mapred.LocalJobRunner: Records R/W=9896/1 > map\n",
      "15/09/22 20:00:49 INFO streaming.PipeMapRed: R/W/S=300000/109311/0 in:50000=300000/6 [rec/s] out:18218=109311/6 [rec/s]\n",
      "15/09/22 20:00:51 INFO mapred.LocalJobRunner: Records R/W=9896/1 > map\n",
      "15/09/22 20:00:52 INFO streaming.PipeMapRed: R/W/S=400000/137841/0 in:50000=400000/8 [rec/s] out:17230=137841/8 [rec/s]\n",
      "15/09/22 20:00:53 INFO streaming.PipeMapRed: Records R/W=470166/149349\n",
      "15/09/22 20:00:54 INFO streaming.PipeMapRed: R/W/S=500000/164546/0 in:50000=500000/10 [rec/s] out:16454=164546/10 [rec/s]\n",
      "15/09/22 20:00:54 INFO mapred.LocalJobRunner: Records R/W=470166/149349 > map\n",
      "15/09/22 20:00:56 INFO streaming.PipeMapRed: R/W/S=600000/190039/0 in:50000=600000/12 [rec/s] out:15836=190039/12 [rec/s]\n",
      "15/09/22 20:00:57 INFO mapred.LocalJobRunner: Records R/W=470166/149349 > map\n",
      "15/09/22 20:00:58 INFO streaming.PipeMapRed: R/W/S=700000/221595/0 in:46666=700000/15 [rec/s] out:14773=221595/15 [rec/s]\n",
      "15/09/22 20:01:00 INFO streaming.PipeMapRed: R/W/S=800000/251941/0 in:47058=800000/17 [rec/s] out:14820=251941/17 [rec/s]\n",
      "15/09/22 20:01:00 INFO mapred.LocalJobRunner: Records R/W=470166/149349 > map\n",
      "15/09/22 20:01:02 INFO streaming.PipeMapRed: R/W/S=900000/285340/0 in:47368=900000/19 [rec/s] out:15017=285340/19 [rec/s]\n",
      "15/09/22 20:01:03 INFO streaming.PipeMapRed: Records R/W=936739/295660\n",
      "15/09/22 20:01:03 INFO mapred.LocalJobRunner: Records R/W=936739/295660 > map\n",
      "15/09/22 20:01:04 INFO streaming.PipeMapRed: R/W/S=1000000/319354/0 in:47619=1000000/21 [rec/s] out:15207=319354/21 [rec/s]\n",
      "15/09/22 20:01:06 INFO streaming.PipeMapRed: R/W/S=1100000/356423/0 in:47826=1100000/23 [rec/s] out:15496=356423/23 [rec/s]\n",
      "15/09/22 20:01:06 INFO mapred.LocalJobRunner: Records R/W=936739/295660 > map\n",
      "15/09/22 20:01:09 INFO streaming.PipeMapRed: R/W/S=1200000/389221/0 in:48000=1200000/25 [rec/s] out:15568=389221/25 [rec/s]\n",
      "15/09/22 20:01:09 INFO mapred.LocalJobRunner: Records R/W=936739/295660 > map\n",
      "15/09/22 20:01:11 INFO streaming.PipeMapRed: R/W/S=1300000/428165/0 in:48148=1300000/27 [rec/s] out:15857=428165/27 [rec/s]\n",
      "15/09/22 20:01:12 INFO mapred.LocalJobRunner: Records R/W=936739/295660 > map\n",
      "15/09/22 20:01:13 INFO streaming.PipeMapRed: R/W/S=1400000/462216/0 in:48275=1400000/29 [rec/s] out:15938=462216/29 [rec/s]\n",
      "15/09/22 20:01:13 INFO streaming.PipeMapRed: Records R/W=1411398/464655\n",
      "15/09/22 20:01:15 INFO streaming.PipeMapRed: R/W/S=1500000/496308/0 in:46875=1500000/32 [rec/s] out:15509=496308/32 [rec/s]\n",
      "15/09/22 20:01:15 INFO mapred.LocalJobRunner: Records R/W=1411398/464655 > map\n",
      "15/09/22 20:01:17 INFO streaming.PipeMapRed: R/W/S=1600000/529179/0 in:47058=1600000/34 [rec/s] out:15564=529179/34 [rec/s]\n",
      "15/09/22 20:01:18 INFO mapred.LocalJobRunner: Records R/W=1411398/464655 > map\n",
      "15/09/22 20:01:19 INFO streaming.PipeMapRed: R/W/S=1700000/560854/0 in:47222=1700000/36 [rec/s] out:15579=560854/36 [rec/s]\n",
      "15/09/22 20:01:21 INFO streaming.PipeMapRed: R/W/S=1800000/589507/0 in:47368=1800000/38 [rec/s] out:15513=589507/38 [rec/s]\n",
      "15/09/22 20:01:21 INFO mapred.LocalJobRunner: Records R/W=1411398/464655 > map\n",
      "15/09/22 20:01:23 INFO streaming.PipeMapRed: Records R/W=1889061/613928\n",
      "15/09/22 20:01:23 INFO streaming.PipeMapRed: R/W/S=1900000/619436/0 in:47500=1900000/40 [rec/s] out:15485=619436/40 [rec/s]\n",
      "15/09/22 20:01:24 INFO mapred.LocalJobRunner: Records R/W=1889061/613928 > map\n",
      "15/09/22 20:01:25 INFO streaming.PipeMapRed: MRErrorThread done\n",
      "15/09/22 20:01:25 INFO streaming.PipeMapRed: mapRedFinished\n",
      "15/09/22 20:01:25 INFO mapred.MapTask: Finished spill 0\n",
      "15/09/22 20:01:25 INFO mapred.MapTask: (RESET) equator 59995777 kv 14998940(59995760) kvi 13008708(52034832)\n",
      "15/09/22 20:01:25 INFO streaming.PipeMapRed: Records R/W=26917/2490024\n",
      "15/09/22 20:01:27 INFO streaming.PipeMapRed: MRErrorThread done\n",
      "15/09/22 20:01:27 INFO streaming.PipeMapRed: mapRedFinished\n",
      "15/09/22 20:01:27 INFO mapred.LocalJobRunner: Records R/W=1889061/613928 > map\n",
      "15/09/22 20:01:27 INFO mapred.MapTask: Starting flush of map output\n",
      "15/09/22 20:01:27 INFO mapred.MapTask: Spilling map output\n",
      "15/09/22 20:01:27 INFO mapred.MapTask: bufstart = 59995777; bufend = 84025236; bufvoid = 104857600\n",
      "15/09/22 20:01:27 INFO mapred.MapTask: kvstart = 14998940(59995760); kvend = 11309268(45237072); length = 3689673/6553600\n",
      "15/09/22 20:01:27 INFO mapred.LocalJobRunner: Records R/W=26917/2490024 > sort\n",
      "15/09/22 20:01:28 INFO streaming.PipeMapRed: PipeMapRed exec [/Users/gtumuluri/Documents/BerkeleyMIDS/ScalableML/HW3/./3.2_pairs_combiner.py]\n",
      "15/09/22 20:01:28 INFO Configuration.deprecation: mapred.skip.reduce.auto.incr.proc.count is deprecated. Instead, use mapreduce.reduce.skip.proc-count.auto-incr\n",
      "15/09/22 20:01:28 INFO streaming.PipeMapRed: R/W/S=1/0/0 in:NA [rec/s] out:NA [rec/s]\n",
      "15/09/22 20:01:28 INFO streaming.PipeMapRed: R/W/S=10/0/0 in:NA [rec/s] out:NA [rec/s]\n",
      "15/09/22 20:01:28 INFO streaming.PipeMapRed: R/W/S=100/0/0 in:NA [rec/s] out:NA [rec/s]\n",
      "15/09/22 20:01:28 INFO streaming.PipeMapRed: R/W/S=1000/0/0 in:NA [rec/s] out:NA [rec/s]\n",
      "15/09/22 20:01:28 INFO streaming.PipeMapRed: Records R/W=9907/1\n",
      "15/09/22 20:01:28 INFO streaming.PipeMapRed: R/W/S=10000/2431/0 in:NA [rec/s] out:NA [rec/s]\n",
      "15/09/22 20:01:28 INFO mapreduce.Job:  map 67% reduce 0%\n",
      "15/09/22 20:01:30 INFO streaming.PipeMapRed: R/W/S=100000/47422/0 in:50000=100000/2 [rec/s] out:23711=47422/2 [rec/s]\n",
      "15/09/22 20:01:30 INFO mapred.LocalJobRunner: Records R/W=9907/1 > sort\n",
      "15/09/22 20:01:32 INFO streaming.PipeMapRed: R/W/S=200000/86913/0 in:50000=200000/4 [rec/s] out:21728=86913/4 [rec/s]\n",
      "15/09/22 20:01:33 INFO mapred.LocalJobRunner: Records R/W=9907/1 > sort\n",
      "15/09/22 20:01:34 INFO streaming.PipeMapRed: R/W/S=300000/127623/0 in:50000=300000/6 [rec/s] out:21270=127623/6 [rec/s]\n",
      "15/09/22 20:01:36 INFO streaming.PipeMapRed: R/W/S=400000/165901/0 in:50000=400000/8 [rec/s] out:20737=165901/8 [rec/s]\n",
      "15/09/22 20:01:36 INFO mapred.LocalJobRunner: Records R/W=9907/1 > sort\n",
      "15/09/22 20:01:38 INFO streaming.PipeMapRed: Records R/W=481576/202398\n",
      "15/09/22 20:01:38 INFO streaming.PipeMapRed: R/W/S=500000/209696/0 in:50000=500000/10 [rec/s] out:20969=209696/10 [rec/s]\n",
      "15/09/22 20:01:39 INFO mapred.LocalJobRunner: Records R/W=481576/202398 > sort\n",
      "15/09/22 20:01:40 INFO streaming.PipeMapRed: R/W/S=600000/252888/0 in:50000=600000/12 [rec/s] out:21074=252888/12 [rec/s]\n",
      "15/09/22 20:01:42 INFO streaming.PipeMapRed: R/W/S=700000/297979/0 in:50000=700000/14 [rec/s] out:21284=297979/14 [rec/s]\n",
      "15/09/22 20:01:42 INFO mapred.LocalJobRunner: Records R/W=481576/202398 > sort\n",
      "15/09/22 20:01:45 INFO streaming.PipeMapRed: R/W/S=800000/342503/0 in:50000=800000/16 [rec/s] out:21406=342503/16 [rec/s]\n",
      "15/09/22 20:01:45 INFO mapred.LocalJobRunner: Records R/W=481576/202398 > sort\n",
      "15/09/22 20:01:47 INFO streaming.PipeMapRed: R/W/S=900000/380486/0 in:50000=900000/18 [rec/s] out:21138=380486/18 [rec/s]\n",
      "15/09/22 20:01:47 INFO streaming.PipeMapRed: MRErrorThread done\n",
      "15/09/22 20:01:47 INFO streaming.PipeMapRed: mapRedFinished\n",
      "15/09/22 20:01:47 INFO mapred.MapTask: Finished spill 1\n",
      "15/09/22 20:01:47 INFO mapred.Merger: Merging 2 sorted segments\n",
      "15/09/22 20:01:47 INFO mapred.Merger: Down to the last merge-pass, with 2 segments left of total size: 29812435 bytes\n",
      "15/09/22 20:01:48 INFO mapred.Task: Task:attempt_local2065773600_0001_m_000000_0 is done. And is in the process of committing\n",
      "15/09/22 20:01:48 INFO mapred.LocalJobRunner: Records R/W=481576/202398 > sort\n",
      "15/09/22 20:01:48 INFO mapred.Task: Task 'attempt_local2065773600_0001_m_000000_0' done.\n",
      "15/09/22 20:01:48 INFO mapred.LocalJobRunner: Finishing task: attempt_local2065773600_0001_m_000000_0\n",
      "15/09/22 20:01:48 INFO mapred.LocalJobRunner: map task executor complete.\n",
      "15/09/22 20:01:48 INFO mapred.LocalJobRunner: Waiting for reduce tasks\n",
      "15/09/22 20:01:48 INFO mapred.LocalJobRunner: Starting task: attempt_local2065773600_0001_r_000000_0\n",
      "15/09/22 20:01:48 INFO output.FileOutputCommitter: File Output Committer Algorithm version is 1\n",
      "15/09/22 20:01:48 INFO util.ProcfsBasedProcessTree: ProcfsBasedProcessTree currently is supported only on Linux.\n",
      "15/09/22 20:01:48 INFO mapred.Task:  Using ResourceCalculatorProcessTree : null\n",
      "15/09/22 20:01:48 INFO mapred.ReduceTask: Using ShuffleConsumerPlugin: org.apache.hadoop.mapreduce.task.reduce.Shuffle@1911483f\n",
      "15/09/22 20:01:48 INFO reduce.MergeManagerImpl: MergerManager: memoryLimit=334338464, maxSingleShuffleLimit=83584616, mergeThreshold=220663392, ioSortFactor=10, memToMemMergeOutputsThreshold=10\n",
      "15/09/22 20:01:48 INFO reduce.EventFetcher: attempt_local2065773600_0001_r_000000_0 Thread started: EventFetcher for fetching Map Completion Events\n",
      "15/09/22 20:01:48 INFO reduce.LocalFetcher: localfetcher#1 about to shuffle output of map attempt_local2065773600_0001_m_000000_0 decomp: 29812465 len: 29812469 to MEMORY\n",
      "15/09/22 20:01:48 INFO reduce.InMemoryMapOutput: Read 29812465 bytes from map-output for attempt_local2065773600_0001_m_000000_0\n",
      "15/09/22 20:01:48 INFO reduce.MergeManagerImpl: closeInMemoryFile -> map-output of size: 29812465, inMemoryMapOutputs.size() -> 1, commitMemory -> 0, usedMemory ->29812465\n",
      "15/09/22 20:01:48 INFO reduce.EventFetcher: EventFetcher is interrupted.. Returning\n",
      "15/09/22 20:01:48 INFO mapred.LocalJobRunner: 1 / 1 copied.\n",
      "15/09/22 20:01:48 INFO reduce.MergeManagerImpl: finalMerge called with 1 in-memory map-outputs and 0 on-disk map-outputs\n",
      "15/09/22 20:01:48 INFO mapred.Merger: Merging 1 sorted segments\n",
      "15/09/22 20:01:48 INFO mapred.Merger: Down to the last merge-pass, with 1 segments left of total size: 29812445 bytes\n",
      "15/09/22 20:01:48 INFO mapreduce.Job:  map 100% reduce 0%\n",
      "15/09/22 20:01:49 INFO reduce.MergeManagerImpl: Merged 1 segments, 29812465 bytes to disk to satisfy reduce memory limit\n",
      "15/09/22 20:01:49 INFO reduce.MergeManagerImpl: Merging 1 files, 29812469 bytes from disk\n",
      "15/09/22 20:01:49 INFO reduce.MergeManagerImpl: Merging 0 segments, 0 bytes from memory into reduce\n",
      "15/09/22 20:01:49 INFO mapred.Merger: Merging 1 sorted segments\n",
      "15/09/22 20:01:49 INFO mapred.Merger: Down to the last merge-pass, with 1 segments left of total size: 29812445 bytes\n",
      "15/09/22 20:01:49 INFO mapred.LocalJobRunner: 1 / 1 copied.\n",
      "15/09/22 20:01:49 INFO streaming.PipeMapRed: PipeMapRed exec [/Users/gtumuluri/Documents/BerkeleyMIDS/ScalableML/HW3/./3.2_pairs_reducer.py]\n",
      "15/09/22 20:01:49 INFO Configuration.deprecation: mapred.job.tracker is deprecated. Instead, use mapreduce.jobtracker.address\n",
      "15/09/22 20:01:49 INFO Configuration.deprecation: mapred.map.tasks is deprecated. Instead, use mapreduce.job.maps\n",
      "15/09/22 20:01:49 INFO streaming.PipeMapRed: R/W/S=1/0/0 in:NA [rec/s] out:NA [rec/s]\n",
      "15/09/22 20:01:49 INFO streaming.PipeMapRed: R/W/S=10/0/0 in:NA [rec/s] out:NA [rec/s]\n",
      "15/09/22 20:01:49 INFO streaming.PipeMapRed: R/W/S=100/0/0 in:NA [rec/s] out:NA [rec/s]\n",
      "15/09/22 20:01:49 INFO streaming.PipeMapRed: R/W/S=1000/0/0 in:NA [rec/s] out:NA [rec/s]\n",
      "15/09/22 20:01:49 INFO streaming.PipeMapRed: R/W/S=10000/0/0 in:NA [rec/s] out:NA [rec/s]\n",
      "15/09/22 20:01:51 INFO streaming.PipeMapRed: R/W/S=100000/0/0 in:50000=100000/2 [rec/s] out:0=0/2 [rec/s]\n",
      "15/09/22 20:01:53 INFO streaming.PipeMapRed: R/W/S=200000/0/0 in:50000=200000/4 [rec/s] out:0=0/4 [rec/s]\n",
      "15/09/22 20:01:54 INFO mapred.LocalJobRunner: reduce > reduce\n",
      "15/09/22 20:01:54 INFO mapreduce.Job:  map 100% reduce 75%\n",
      "15/09/22 20:01:55 INFO streaming.PipeMapRed: R/W/S=300000/0/0 in:50000=300000/6 [rec/s] out:0=0/6 [rec/s]\n",
      "15/09/22 20:01:57 INFO streaming.PipeMapRed: R/W/S=400000/0/0 in:50000=400000/8 [rec/s] out:0=0/8 [rec/s]\n",
      "15/09/22 20:01:57 INFO mapred.LocalJobRunner: reduce > reduce\n",
      "15/09/22 20:01:57 INFO mapreduce.Job:  map 100% reduce 80%\n",
      "15/09/22 20:01:59 INFO streaming.PipeMapRed: R/W/S=500000/0/0 in:50000=500000/10 [rec/s] out:0=0/10 [rec/s]\n",
      "15/09/22 20:02:00 INFO mapred.LocalJobRunner: reduce > reduce\n",
      "15/09/22 20:02:00 INFO mapreduce.Job:  map 100% reduce 85%\n",
      "15/09/22 20:02:01 INFO streaming.PipeMapRed: R/W/S=600000/0/0 in:50000=600000/12 [rec/s] out:0=0/12 [rec/s]\n",
      "15/09/22 20:02:03 INFO streaming.PipeMapRed: R/W/S=700000/0/0 in:50000=700000/14 [rec/s] out:0=0/14 [rec/s]\n",
      "15/09/22 20:02:03 INFO mapred.LocalJobRunner: reduce > reduce\n",
      "15/09/22 20:02:03 INFO mapreduce.Job:  map 100% reduce 89%\n",
      "15/09/22 20:02:05 INFO streaming.PipeMapRed: R/W/S=800000/0/0 in:50000=800000/16 [rec/s] out:0=0/16 [rec/s]\n",
      "15/09/22 20:02:06 INFO mapred.LocalJobRunner: reduce > reduce\n",
      "15/09/22 20:02:06 INFO mapreduce.Job:  map 100% reduce 94%\n",
      "15/09/22 20:02:07 INFO streaming.PipeMapRed: R/W/S=900000/0/0 in:50000=900000/18 [rec/s] out:0=0/18 [rec/s]\n",
      "15/09/22 20:02:09 INFO mapred.LocalJobRunner: reduce > reduce\n",
      "15/09/22 20:02:09 INFO streaming.PipeMapRed: R/W/S=1000000/0/0 in:50000=1000000/20 [rec/s] out:0=0/20 [rec/s]\n",
      "15/09/22 20:02:09 INFO mapreduce.Job:  map 100% reduce 99%\n",
      "15/09/22 20:02:11 INFO streaming.PipeMapRed: Records R/W=1030795/1\n",
      "15/09/22 20:02:11 INFO streaming.PipeMapRed: MRErrorThread done\n",
      "15/09/22 20:02:11 INFO streaming.PipeMapRed: mapRedFinished\n",
      "15/09/22 20:02:11 INFO mapred.Task: Task:attempt_local2065773600_0001_r_000000_0 is done. And is in the process of committing\n",
      "15/09/22 20:02:11 INFO mapred.LocalJobRunner: reduce > reduce\n",
      "15/09/22 20:02:11 INFO mapred.Task: Task attempt_local2065773600_0001_r_000000_0 is allowed to commit now\n",
      "15/09/22 20:02:11 INFO output.FileOutputCommitter: Saved output of task 'attempt_local2065773600_0001_r_000000_0' to hdfs://localhost:9000/user/gtumuluri/oneAndTwoItemsetsOutput/_temporary/0/task_local2065773600_0001_r_000000\n",
      "15/09/22 20:02:11 INFO mapred.LocalJobRunner: Records R/W=1030795/1 > reduce\n",
      "15/09/22 20:02:11 INFO mapred.Task: Task 'attempt_local2065773600_0001_r_000000_0' done.\n",
      "15/09/22 20:02:11 INFO mapred.LocalJobRunner: Finishing task: attempt_local2065773600_0001_r_000000_0\n",
      "15/09/22 20:02:11 INFO mapred.LocalJobRunner: reduce task executor complete.\n",
      "15/09/22 20:02:11 INFO mapreduce.Job:  map 100% reduce 100%\n",
      "15/09/22 20:02:11 INFO mapreduce.Job: Job job_local2065773600_0001 completed successfully\n",
      "15/09/22 20:02:11 INFO mapreduce.Job: Counters: 35\n",
      "\tFile System Counters\n",
      "\t\tFILE: Number of bytes read=119462040\n",
      "\t\tFILE: Number of bytes written=149863529\n",
      "\t\tFILE: Number of read operations=0\n",
      "\t\tFILE: Number of large read operations=0\n",
      "\t\tFILE: Number of write operations=0\n",
      "\t\tHDFS: Number of bytes read=6917034\n",
      "\t\tHDFS: Number of bytes written=276\n",
      "\t\tHDFS: Number of read operations=13\n",
      "\t\tHDFS: Number of large read operations=0\n",
      "\t\tHDFS: Number of write operations=4\n",
      "\tMap-Reduce Framework\n",
      "\t\tMap input records=31101\n",
      "\t\tMap output records=2914884\n",
      "\t\tMap output bytes=76036100\n",
      "\t\tMap output materialized bytes=29812469\n",
      "\t\tInput split bytes=112\n",
      "\t\tCombine input records=2914884\n",
      "\t\tCombine output records=1030795\n",
      "\t\tReduce input groups=889690\n",
      "\t\tReduce shuffle bytes=29812469\n",
      "\t\tReduce input records=1030795\n",
      "\t\tReduce output records=9\n",
      "\t\tSpilled Records=3092385\n",
      "\t\tShuffled Maps =1\n",
      "\t\tFailed Shuffles=0\n",
      "\t\tMerged Map outputs=1\n",
      "\t\tGC time elapsed (ms)=8\n",
      "\t\tTotal committed heap usage (bytes)=488636416\n",
      "\tShuffle Errors\n",
      "\t\tBAD_ID=0\n",
      "\t\tCONNECTION=0\n",
      "\t\tIO_ERROR=0\n",
      "\t\tWRONG_LENGTH=0\n",
      "\t\tWRONG_MAP=0\n",
      "\t\tWRONG_REDUCE=0\n",
      "\tFile Input Format Counters \n",
      "\t\tBytes Read=3458517\n",
      "\tFile Output Format Counters \n",
      "\t\tBytes Written=276\n",
      "15/09/22 20:02:11 INFO streaming.StreamJob: Output directory: oneAndTwoItemsetsOutput\n"
     ]
    }
   ],
   "source": [
    "!hadoop jar /usr/local/Cellar/hadoop/2.7.0/libexec/share/hadoop/tools/lib/hadoop-streaming-2.7.0.jar -mapper 3.2_pairs_mapper.py -combiner 3.2_pairs_combiner.py -reducer 3.2_pairs_reducer.py -input ProductPurchaseData.txt -output oneAndTwoItemsetsOutput"
   ]
  },
  {
   "cell_type": "code",
   "execution_count": 24,
   "metadata": {
    "collapsed": false
   },
   "outputs": [
    {
     "name": "stdout",
     "output_type": "stream",
     "text": [
      "15/09/22 20:02:18 WARN util.NativeCodeLoader: Unable to load native-hadoop library for your platform... using builtin-java classes where applicable\n",
      "Number of frequent 1-item sets: 647\t\n",
      "Number of frequent 2-item sets: 1334\t\n",
      "\t\n",
      "Top Five Rules with Confidence Scores:\t\n",
      "('DAI93865', 'FRO40251', 1.0)\t\n",
      "('DAI88079', 'FRO40251', 0.99)\t\n",
      "('ELE12951', 'FRO40251', 0.99)\t\n",
      "('DAI43868', 'SNA82528', 0.97)\t\n",
      "('DAI23334', 'DAI62779', 0.95)\t\n"
     ]
    }
   ],
   "source": [
    "!hdfs dfs -cat oneAndTwoItemsetsOutput/part-00000"
   ]
  },
  {
   "cell_type": "markdown",
   "metadata": {},
   "source": [
    "## Problem 3.3 - pyFIM\n",
    "\n",
    "**This problem has been cancelled, and so it is not presented here.**"
   ]
  },
  {
   "cell_type": "markdown",
   "metadata": {},
   "source": [
    "## Problem 3.4 - Apriori Algorithm with MapReduce to Find High Confidence 3-Itemsets\n",
    "\n",
    "From the key foundational principle of Apriori algorithm on frequent item subsets, we know that all 3-itemsets will only be made up of items in the 2-itemsets, and further more, a 2-itemset has to be in the 3-itemset. So, we would have the mapper take the list of 2-itemsets, and generate the combinations of possible 3-itemsets.\n",
    "\n",
    "For example, we (a, b), (c, d) and (e, f) were the 2-itemsets, then the possible 3-itemsets are:\n",
    "\n",
    "(a, b) (c)\n",
    "(a, b) (d)\n",
    "(a, b) (e)\n",
    "(a, b) (f)\n",
    "(c, d) (a)\n",
    "and so forth.....\n",
    "\n",
    "After generating the combinations, we can send them to another set of mappers in a separate file. The mappers will then use this information and re-process the original basket data to compare against possible 3-itemset candidates. When a matching 3-itemset is found, the mapper will output the occurrence and count (of 1). A combiner can be used again to aggregate counts for each 3-itemset occurrence. The reducer will take each candidate 3-itemset found, and create aggregate counts and do support/confidence computations. Possible combinations of 3-itemset candidates can be stored in a dict, which can be looked up as the mapper re-processes the basket by looking up the existence of the combination. Mapper will have a 'triple' loop for each basket to generate 3-itemset candidates, which will then be looked up in the dict that has the 'subset' of candidates that have met the frequent 2-itemset and 1-itemset criteria in the original map/reduce step."
   ]
  },
  {
   "cell_type": "markdown",
   "metadata": {},
   "source": [
    "### Stop Yarn and HDFS"
   ]
  },
  {
   "cell_type": "code",
   "execution_count": null,
   "metadata": {
    "collapsed": false
   },
   "outputs": [
    {
     "name": "stdout",
     "output_type": "stream",
     "text": [
      "stopping yarn daemons\n",
      "stopping resourcemanager\n",
      "localhost: stopping nodemanager\n",
      "no proxyserver to stop\n",
      "15/09/22 20:23:25 WARN util.NativeCodeLoader: Unable to load native-hadoop library for your platform... using builtin-java classes where applicable\n",
      "Stopping namenodes on [localhost]\n",
      "localhost: stopping namenode\n",
      "localhost: stopping datanode\n"
     ]
    }
   ],
   "source": [
    "!/usr/local/Cellar/hadoop/2.7.0/sbin/stop-yarn.sh\n",
    "!/usr/local/Cellar/hadoop/2.7.0/sbin/stop-dfs.sh"
   ]
  },
  {
   "cell_type": "code",
   "execution_count": null,
   "metadata": {
    "collapsed": true
   },
   "outputs": [],
   "source": []
  }
 ],
 "metadata": {
  "kernelspec": {
   "display_name": "Python 2",
   "language": "python",
   "name": "python2"
  },
  "language_info": {
   "codemirror_mode": {
    "name": "ipython",
    "version": 2
   },
   "file_extension": ".py",
   "mimetype": "text/x-python",
   "name": "python",
   "nbconvert_exporter": "python",
   "pygments_lexer": "ipython2",
   "version": "2.7.5"
  }
 },
 "nbformat": 4,
 "nbformat_minor": 0
}
